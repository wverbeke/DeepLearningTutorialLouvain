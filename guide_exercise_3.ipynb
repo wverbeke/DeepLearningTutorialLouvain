{
 "cells": [
  {
   "cell_type": "code",
   "execution_count": 2,
   "metadata": {},
   "outputs": [],
   "source": [
    "import uproot\n",
    "\n",
    "#open file\n",
    "signal_f = uproot.open('GluGluHToWWTo2L2Nu_M125.root')\n",
    "bkg_f = ( uproot.open('DYJetsToLL_M-10to50-LO.root'), uproot.open('DYJetsToLL_M-50-LO.root') )\n",
    "\n",
    "#open trees\n",
    "sig_tree = signal_f[ 'Events' ]\n",
    "bkg_trees = [ f['Events'] for f in bkg_f ]\n"
   ]
  },
  {
   "cell_type": "markdown",
   "metadata": {},
   "source": [
    "Given below is the list of variables which represent the event weights. To get the final event weight these values have to be multiplied. "
   ]
  },
  {
   "cell_type": "code",
   "execution_count": null,
   "metadata": {},
   "outputs": [],
   "source": [
    "weight_variables = [ 'XSWeight', 'SFweight2l', 'LepSF2l__ele_mvaFall17V1Iso_WP90__mu_cut_Tight_HWWW', \n",
    "                    'LepCut2l__ele_mvaFall17V1Iso_WP90__mu_cut_Tight_HWWW', 'GenLepMatch2l', 'METFilter_MC' ]\n",
    "\n",
    "\n",
    "#function to build the total weight array for one tree \n",
    "def getWeightArray( tree, weight_variables ):\n",
    "    #read in each of t\n"
   ]
  },
  {
   "cell_type": "markdown",
   "metadata": {},
   "source": [
    "Now read in the signal and background weights. In order to avoid large numerical scales for the weights, each weight array should be divided by its mean value. (Note, for background the weights have to be merged before dividing them by the mean!)"
   ]
  },
  {
   "cell_type": "code",
   "execution_count": null,
   "metadata": {},
   "outputs": [],
   "source": []
  }
 ],
 "metadata": {
  "kernelspec": {
   "display_name": "Python 3",
   "language": "python",
   "name": "python3"
  },
  "language_info": {
   "codemirror_mode": {
    "name": "ipython",
    "version": 3
   },
   "file_extension": ".py",
   "mimetype": "text/x-python",
   "name": "python",
   "nbconvert_exporter": "python",
   "pygments_lexer": "ipython3",
   "version": "3.6.8"
  }
 },
 "nbformat": 4,
 "nbformat_minor": 2
}
