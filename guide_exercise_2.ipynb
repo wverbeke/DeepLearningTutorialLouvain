{
 "cells": [
  {
   "cell_type": "code",
   "execution_count": 2,
   "metadata": {},
   "outputs": [],
   "source": [
    "import uproot\n",
    "import numpy as np\n",
    "\n",
    "#open files\n",
    "signal_f = uproot.open('GluGluHToWWTo2L2Nu_M125.root')\n",
    "bkg_f = ( uproot.open('DYJetsToLL_M-10to50-LO.root'), uproot.open('DYJetsToLL_M-50-LO.root') )"
   ]
  },
  {
   "cell_type": "markdown",
   "metadata": {},
   "source": [
    "Now open the trees. It is adviseable to use a tuple or list for the background so you can use loops later to build arrays for both backgrounds rather than copy code by hand"
   ]
  },
  {
   "cell_type": "code",
   "execution_count": 3,
   "metadata": {},
   "outputs": [],
   "source": [
    "#open trees\n",
    "#fill in code here"
   ]
  },
  {
   "cell_type": "markdown",
   "metadata": {},
   "source": [
    "For the list of input variables given below you should read in all the arrays using the 'arrays' method on the respective trees. This will yield a dictionary of arrays, which should be converted to a 2D array. For doing this conversion the np.expand_dims function will be useful. The resulting 2D arrays should then be normalized over the events."
   ]
  },
  {
   "cell_type": "code",
   "execution_count": null,
   "metadata": {},
   "outputs": [],
   "source": [
    "#list of input variables\n",
    "input_variables = [ 'ptll', 'mth', 'jetpt1_cut', 'uperp', 'upara', \n",
    "                   'PfMetDivSumMet', 'recoil', 'mpmet', 'mtw1', 'mtw2', \n",
    "                   'PuppiMET_pt', 'MET_pt', 'TkMET_pt', 'projtkmet', 'projpfmet', \n",
    "                   'dphilljet_cut', 'dphijet1met_cut', 'dphillmet', 'dphilmet1', \n",
    "                   'dphilmet2', 'jetpt2_cut', 'dphijet2met_cut', 'dphilljetjet_cut', \n",
    "                   'dphijjmet_cut', 'ptTOT_cut', 'mTOT_cut', 'PV_npvsGood' ]\n",
    "\n",
    "#function to convert dictionary of arrays to 2D array\n",
    "def arrayDictTo2DArray( array_dict ):\n",
    "    #write this function\n",
    "    \n",
    "#function to normalize array of inputs ( center distribution at 0 and give them unit variance )\n",
    "def normalizeInputArray( array2D ):\n",
    "    #write this function\n",
    "    \n",
    "#now read in the arrays for all input variables, convert them to a 2D array and normalize these \n",
    "\n",
    "#merge the background arrays into one 2D array"
   ]
  },
  {
   "cell_type": "code",
   "execution_count": null,
   "metadata": {},
   "outputs": [],
   "source": []
  }
 ],
 "metadata": {
  "kernelspec": {
   "display_name": "Python 3",
   "language": "python",
   "name": "python3"
  },
  "language_info": {
   "codemirror_mode": {
    "name": "ipython",
    "version": 3
   },
   "file_extension": ".py",
   "mimetype": "text/x-python",
   "name": "python",
   "nbconvert_exporter": "python",
   "pygments_lexer": "ipython3",
   "version": "3.6.8"
  }
 },
 "nbformat": 4,
 "nbformat_minor": 2
}
